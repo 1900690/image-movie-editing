{
  "nbformat": 4,
  "nbformat_minor": 0,
  "metadata": {
    "colab": {
      "provenance": [],
      "gpuType": "T4",
      "include_colab_link": true
    },
    "kernelspec": {
      "name": "python3",
      "display_name": "Python 3"
    },
    "language_info": {
      "name": "python"
    },
    "accelerator": "GPU"
  },
  "cells": [
    {
      "cell_type": "markdown",
      "metadata": {
        "id": "view-in-github",
        "colab_type": "text"
      },
      "source": [
        "<a href=\"https://colab.research.google.com/github/1900690/image-movie-editing/blob/main/%E5%8B%95%E7%94%BB%E3%81%A8%E7%94%BB%E5%83%8F%E5%A4%89%E6%8F%9B.ipynb\" target=\"_parent\"><img src=\"https://colab.research.google.com/assets/colab-badge.svg\" alt=\"Open In Colab\"/></a>"
      ]
    },
    {
      "cell_type": "code",
      "execution_count": null,
      "metadata": {
        "id": "QtAypOjZYSTO",
        "outputId": "ceeee52e-4f53-4dfa-956c-30a7f270a120",
        "colab": {
          "base_uri": "https://localhost:8080/"
        }
      },
      "outputs": [
        {
          "output_type": "stream",
          "name": "stdout",
          "text": [
            "Mounted at /content/drive\n"
          ]
        }
      ],
      "source": [
        "#ドライブマウント\n",
        "from google.colab import drive\n",
        "drive.mount('/content/drive')"
      ]
    },
    {
      "cell_type": "markdown",
      "source": [
        "#AVIファイルをmp4に変換する"
      ],
      "metadata": {
        "id": "gbIzEsk7brxM"
      }
    },
    {
      "cell_type": "code",
      "source": [
        "#失敗して元ファイルが破損するのを防ぐためにドライブからファイルコピー\n",
        "import shutil\n",
        "shutil.copytree(\"/content/drive/MyDrive/mp4_out\", \"/content/mp4\")"
      ],
      "metadata": {
        "id": "eLWOtX8WYtqe",
        "outputId": "80a2a9d1-dc22-4bb0-9fe3-39e76919128a",
        "colab": {
          "base_uri": "https://localhost:8080/",
          "height": 36
        }
      },
      "execution_count": null,
      "outputs": [
        {
          "output_type": "execute_result",
          "data": {
            "text/plain": [
              "'/content/mp4'"
            ],
            "application/vnd.google.colaboratory.intrinsic+json": {
              "type": "string"
            }
          },
          "metadata": {},
          "execution_count": 2
        }
      ]
    },
    {
      "cell_type": "code",
      "source": [
        "#libraryインポート\n",
        "!pip install opencv-python\n",
        "!pip install opencv-contrib-python"
      ],
      "metadata": {
        "id": "y9gmBB_rcDMZ",
        "outputId": "cbe1e5ba-449f-40e9-d129-3a65fb22e8a5",
        "colab": {
          "base_uri": "https://localhost:8080/"
        }
      },
      "execution_count": null,
      "outputs": [
        {
          "output_type": "stream",
          "name": "stdout",
          "text": [
            "Requirement already satisfied: opencv-python in /usr/local/lib/python3.11/dist-packages (4.11.0.86)\n",
            "Requirement already satisfied: numpy>=1.21.2 in /usr/local/lib/python3.11/dist-packages (from opencv-python) (2.0.2)\n",
            "Requirement already satisfied: opencv-contrib-python in /usr/local/lib/python3.11/dist-packages (4.11.0.86)\n",
            "Requirement already satisfied: numpy>=1.21.2 in /usr/local/lib/python3.11/dist-packages (from opencv-contrib-python) (2.0.2)\n"
          ]
        }
      ]
    },
    {
      "cell_type": "code",
      "source": [
        "#AVIからmp4に変換\n",
        "import cv2\n",
        "import os\n",
        "\n",
        "#この中の動画が画像変換される\n",
        "file_path='/content/AVI/'\n",
        "\n",
        "#mp4フォルダを作成\n",
        "if not os.path.exists('/content/mp4'):\n",
        "    os.mkdir('/content/mp4')\n",
        "\n",
        "def convert_avi_to_mp4(file_path):\n",
        "    #VideoCaptureオブジェクトを取得\n",
        "    cap = cv2.VideoCapture(file_path)\n",
        "\n",
        "    #動画のプロパティを取得\n",
        "    width = int(cap.get(cv2.CAP_PROP_FRAME_WIDTH))\n",
        "    height = int(cap.get(cv2.CAP_PROP_FRAME_HEIGHT))\n",
        "    fps = cap.get(cv2.CAP_PROP_FPS)\n",
        "\n",
        "    #書き出し設定\n",
        "    fourcc = cv2.VideoWriter_fourcc('m','p','4','v')\n",
        "    writer = cv2.VideoWriter(\"/content/mp4/\"+os.path.splitext(os.path.basename(file_path))[0]+\".mp4\", fourcc, fps, (width, height))\n",
        "\n",
        "    while True:\n",
        "        ret, frame = cap.read()\n",
        "        writer.write(frame)\n",
        "        if not ret:\n",
        "            break\n",
        "\n",
        "    writer.release()\n",
        "    cap.release()\n",
        "\n",
        "\n",
        "load_name = os.listdir(file_path)\n",
        "\n",
        "for file_name in load_name:\n",
        "  convert_avi_to_mp4(file_path+file_name)"
      ],
      "metadata": {
        "id": "oNBcks9DcH2i"
      },
      "execution_count": null,
      "outputs": []
    },
    {
      "cell_type": "markdown",
      "source": [
        "#mp4からjpgを取り出す"
      ],
      "metadata": {
        "id": "WRzwk7J6fi1z"
      }
    },
    {
      "cell_type": "code",
      "source": [
        "import shutil\n",
        "import cv2\n",
        "import os\n",
        "\n",
        "#この中の動画が画像取り出しされる\n",
        "LOAD_FOLDA = '/content/mp4'\n",
        "\n",
        "if os.path.exists(\"/content/slice\"):\n",
        "  shutil.rmtree(\"/content/slice\")\n",
        "\n",
        "def save_frame_range(video_path,\n",
        "                     dir_path, ext='jpg'):\n",
        "\n",
        "    basename=video_path[-12:-4]\n",
        "    cap = cv2.VideoCapture(video_path)\n",
        "\n",
        "    # 総フレーム数\n",
        "    total_frames = int(cap.get(cv2.CAP_PROP_FRAME_COUNT));\n",
        "    #print(total_frames)\n",
        "\n",
        "    #真ん中+1のフレームを取り出すプラスの数値を調整することでフレームをずらせる\n",
        "    center_frame=total_frames\n",
        "    start_frame=0#center_frame-1\n",
        "    stop_frame=total_frames\n",
        "    step_frame=1#center_frame\n",
        "\n",
        "    if not cap.isOpened():\n",
        "        return\n",
        "\n",
        "    os.makedirs(dir_path, exist_ok=True)\n",
        "    base_path = os.path.join(dir_path, basename)\n",
        "\n",
        "    digit = len(str(int(cap.get(cv2.CAP_PROP_FRAME_COUNT))))\n",
        "\n",
        "    for n in range(start_frame, stop_frame, step_frame):\n",
        "        cap.set(cv2.CAP_PROP_POS_FRAMES, n)\n",
        "        ret, frame = cap.read()\n",
        "        if ret:\n",
        "            cv2.imwrite('{}_{}.{}'.format(base_path, str(n).zfill(digit), ext), frame)\n",
        "        else:\n",
        "            return\n",
        "\n",
        "#スライスフォルダを作成\n",
        "SAVE_NAME = 'slice'\n",
        "if not os.path.exists('/content/' +SAVE_NAME):\n",
        "    os.mkdir('/content/' +SAVE_NAME)\n",
        "\n",
        "LOAD_NAME = os.listdir(LOAD_FOLDA)\n",
        "\n",
        "for file_name in LOAD_NAME:\n",
        "  IMAGE_PATH= LOAD_FOLDA +'/'+file_name\n",
        "  save_name='/content/'+SAVE_NAME+\"/\"+os.path.splitext(os.path.basename(file_name))[0]\n",
        "  os.makedirs(save_name, exist_ok=True)\n",
        "  save_frame_range(IMAGE_PATH,save_name)"
      ],
      "metadata": {
        "id": "2d7s1soXdM8D"
      },
      "execution_count": null,
      "outputs": []
    },
    {
      "cell_type": "code",
      "source": [
        "#画像をまとめてダウンロードするとき用\n",
        "from google.colab import files\n",
        "import shutil\n",
        "\n",
        "shutil.make_archive('slice', format='zip', root_dir='/content/slice/')\n",
        "\n",
        "files.download('slice.zip')"
      ],
      "metadata": {
        "id": "UzOAdXJmfYkV",
        "outputId": "12745cad-1f21-4ecb-9ed0-10bc990316e6",
        "colab": {
          "base_uri": "https://localhost:8080/",
          "height": 17
        }
      },
      "execution_count": null,
      "outputs": [
        {
          "output_type": "display_data",
          "data": {
            "text/plain": [
              "<IPython.core.display.Javascript object>"
            ],
            "application/javascript": [
              "\n",
              "    async function download(id, filename, size) {\n",
              "      if (!google.colab.kernel.accessAllowed) {\n",
              "        return;\n",
              "      }\n",
              "      const div = document.createElement('div');\n",
              "      const label = document.createElement('label');\n",
              "      label.textContent = `Downloading \"${filename}\": `;\n",
              "      div.appendChild(label);\n",
              "      const progress = document.createElement('progress');\n",
              "      progress.max = size;\n",
              "      div.appendChild(progress);\n",
              "      document.body.appendChild(div);\n",
              "\n",
              "      const buffers = [];\n",
              "      let downloaded = 0;\n",
              "\n",
              "      const channel = await google.colab.kernel.comms.open(id);\n",
              "      // Send a message to notify the kernel that we're ready.\n",
              "      channel.send({})\n",
              "\n",
              "      for await (const message of channel.messages) {\n",
              "        // Send a message to notify the kernel that we're ready.\n",
              "        channel.send({})\n",
              "        if (message.buffers) {\n",
              "          for (const buffer of message.buffers) {\n",
              "            buffers.push(buffer);\n",
              "            downloaded += buffer.byteLength;\n",
              "            progress.value = downloaded;\n",
              "          }\n",
              "        }\n",
              "      }\n",
              "      const blob = new Blob(buffers, {type: 'application/binary'});\n",
              "      const a = document.createElement('a');\n",
              "      a.href = window.URL.createObjectURL(blob);\n",
              "      a.download = filename;\n",
              "      div.appendChild(a);\n",
              "      a.click();\n",
              "      div.remove();\n",
              "    }\n",
              "  "
            ]
          },
          "metadata": {}
        },
        {
          "output_type": "display_data",
          "data": {
            "text/plain": [
              "<IPython.core.display.Javascript object>"
            ],
            "application/javascript": [
              "download(\"download_412b4686-73c4-438c-b9b3-8e866dbf4ed1\", \"slice.zip\", 6899096)"
            ]
          },
          "metadata": {}
        }
      ]
    },
    {
      "cell_type": "markdown",
      "source": [
        "#魚眼補正\n",
        "\n",
        "###参考\n",
        "[魚眼レンズの補正](https://qiita.com/hiro_o_tama/items/cb544fe64ca373750aae)\n",
        "\n",
        "\n",
        "[OpenCVのundistort（レンズ歪み補正）で端っこが欠けてしまうのをなんとかする](https://qiita.com/jellied_unagi/items/36796d48d7d8a5fb3e42)\n",
        "\n",
        "\n",
        "[端っこをかけるのを防ぐために](http://twinklesmile.blog42.fc2.com/blog-entry-466.html)"
      ],
      "metadata": {
        "id": "7R6AH5Ikeb0v"
      }
    },
    {
      "cell_type": "code",
      "source": [
        "import cv2\n",
        "# assert cv2.__version__[0] == '3', 'このモジュールには3.0.0以上の opencv のバージョンが必要です'\n",
        "import numpy as np\n",
        "import os\n",
        "import glob\n",
        "\n",
        "#チェッカーボードの画像が入っているファイルのまでのパス、画像サイズはすべて同じである必要あり\n",
        "images = glob.glob('/content/drive/MyDrive/checkboad/*.jpg')# source/*.jpg\n",
        "\n",
        "#チェッカーボードのマス数（0から始まる）\n",
        "CHECKERBOARD = (6,9)\n",
        "\n",
        "#print(CHECKERBOARD)\n",
        "subpix_criteria = (cv2.TERM_CRITERIA_EPS+cv2.TERM_CRITERIA_MAX_ITER, 30, 0.1)\n",
        "calibration_flags = cv2.fisheye.CALIB_RECOMPUTE_EXTRINSIC+cv2.fisheye.CALIB_CHECK_COND+cv2.fisheye.CALIB_FIX_SKEW\n",
        "objp = np.zeros((1, CHECKERBOARD[0]*CHECKERBOARD[1], 3), np.float32)\n",
        "objp[0,:,:2] = np.mgrid[0:CHECKERBOARD[0], 0:CHECKERBOARD[1]].T.reshape(-1, 2)\n",
        "_img_shape = None\n",
        "objpoints = [] # 3d point in real world space\n",
        "imgpoints = [] # 2d points in image plane.\n",
        "\n",
        "for fname in images:\n",
        "    img = cv2.imread(fname)\n",
        "    if _img_shape == None:\n",
        "        _img_shape = img.shape[:2]\n",
        "    else:\n",
        "        assert _img_shape == img.shape[:2], \"All images must share the same size.\"\n",
        "    gray = cv2.cvtColor(img,cv2.COLOR_BGR2GRAY)\n",
        "    # Find the chess board corners\n",
        "    ret, corners = cv2.findChessboardCorners(gray, CHECKERBOARD, cv2.CALIB_CB_ADAPTIVE_THRESH+cv2.CALIB_CB_FAST_CHECK+cv2.CALIB_CB_NORMALIZE_IMAGE)\n",
        "    # If found, add object points, image points (after refining them)\n",
        "    if ret == True:\n",
        "        objpoints.append(objp)\n",
        "        cv2.cornerSubPix(gray,corners,(3,3),(-1,-1),subpix_criteria)\n",
        "        imgpoints.append(corners)\n",
        "\n",
        "#print('img end')\n",
        "N_OK = len(objpoints)\n",
        "K = np.zeros((3, 3))\n",
        "D = np.zeros((4, 1))\n",
        "rvecs = [np.zeros((1, 1, 3), dtype=np.float64) for i in range(N_OK)]\n",
        "tvecs = [np.zeros((1, 1, 3), dtype=np.float64) for i in range(N_OK)]\n",
        "rms, _, _, _, _ = \\\n",
        "    cv2.fisheye.calibrate(\n",
        "        objpoints,\n",
        "        imgpoints,\n",
        "        gray.shape[::-1],\n",
        "        K,\n",
        "        D,\n",
        "        rvecs,\n",
        "        tvecs,\n",
        "        calibration_flags,\n",
        "        (cv2.TERM_CRITERIA_EPS+cv2.TERM_CRITERIA_MAX_ITER, 30, 1e-6)\n",
        "    )\n",
        "print(\"校正に有効な画像が\" + str(N_OK) + \"枚見つかりました\")\n",
        "print(\"DIM=\" + str(_img_shape[::-1]))\n",
        "print(\"K=np.array(\" + str(K.tolist()) + \")\")\n",
        "print(\"D=np.array(\" + str(D.tolist()) + \")\")"
      ],
      "metadata": {
        "id": "7xHZBX_Ve6xk",
        "colab": {
          "base_uri": "https://localhost:8080/"
        },
        "outputId": "8fe4e518-c372-4553-91ea-5354245634fd"
      },
      "execution_count": null,
      "outputs": [
        {
          "output_type": "stream",
          "name": "stdout",
          "text": [
            "(6, 9)\n",
            "img end\n",
            "校正に有効な画像が6枚見つかりました\n",
            "DIM=(1280, 720)\n",
            "K=np.array([[768.4324165833522, 0.0, 629.193977277274], [0.0, 768.0867082519276, 363.13481714845415], [0.0, 0.0, 1.0]])\n",
            "D=np.array([[-0.07176022472676662], [-0.01831839322401357], [-0.051792564889714565], [0.0897998816199078]])\n"
          ]
        }
      ]
    },
    {
      "cell_type": "code",
      "source": [
        "#指定した画像を構成値を用いて補正\n",
        "from google.colab.patches import cv2_imshow\n",
        "import numpy as np\n",
        "import cv2\n",
        "import sys\n",
        "import os\n",
        "\n",
        "#補正する画像のフォルダpath\n",
        "load_path=\"/content/slice/\"\n",
        "\n",
        "if os.path.exists('/content/adjusted/'):\n",
        "  shutil.rmtree('/content/adjusted/')\n",
        "\n",
        "# 以下の3行を上のセルの出力に置き換えてください。\n",
        "DIM=(1280, 720)\n",
        "K=np.array([[768.4324165833522, 0.0, 629.193977277274], [0.0, 768.0867082519276, 363.13481714845415], [0.0, 0.0, 1.0]])\n",
        "D=np.array([[-0.07176022472676662], [-0.01831839322401357], [-0.051792564889714565], [0.0897998816199078]])\n",
        "\n",
        "#そのままのKだと大きく範囲を切り取ってしまうのでnkを使って補正\n",
        "nK = K.copy()\n",
        "nK[0,0]=K[0,0]/1.2\n",
        "nK[1,1]=K[1,1]/1.2\n",
        "\n",
        "#補正後の画像を入れるフォルダを作成\n",
        "if not os.path.exists('/content/adjusted/'):\n",
        "    os.mkdir('/content/adjusted/')\n",
        "\n",
        "def undistort(img_path,p):\n",
        "    img = cv2.imread(img_path)\n",
        "    h,w = img.shape[:2]\n",
        "    #map1, map2 = cv2.fisheye.initUndistortRectifyMap(K, D, np.eye(3), K, DIM, cv2.CV_16SC2)\n",
        "    map1, map2 = cv2.fisheye.initUndistortRectifyMap(K, D, np.eye(3), nK, DIM, cv2.CV_16SC2)\n",
        "    undistorted_img = cv2.remap(img, map1, map2, interpolation=cv2.INTER_LINEAR, borderMode=cv2.BORDER_CONSTANT)\n",
        "    #cv2_imshow(undistorted_img)\n",
        "    # cv2.waitKey(0)\n",
        "    # cv2.destroyAllWindows()\n",
        "    cv2.imwrite('/content/adjusted/'+p+'/out_' + os.path.basename(img_path), undistorted_img)\n",
        "\n",
        "if __name__ == '__main__':\n",
        "    load_name = os.listdir(load_path)\n",
        "    for p in load_name:\n",
        "      os.makedirs('/content/adjusted/'+p, exist_ok=True)\n",
        "      mp4_path=load_path+p\n",
        "      img_name=os.listdir(mp4_path)\n",
        "      for i in img_name:\n",
        "        img_path=mp4_path+'/'+i\n",
        "        undistort(img_path,p)"
      ],
      "metadata": {
        "id": "YeMBNnAIfgOU"
      },
      "execution_count": null,
      "outputs": []
    },
    {
      "cell_type": "markdown",
      "source": [
        "#jpgからmp4を作成"
      ],
      "metadata": {
        "id": "O9KTmF0l3yDv"
      }
    },
    {
      "cell_type": "code",
      "source": [
        "import cv2\n",
        "from glob import glob\n",
        "\n",
        "#動画を作る画像のフォルダpath\n",
        "load_path=\"/content/adjusted/\"\n",
        "\n",
        "if os.path.exists('/content/mp4_out/'):\n",
        "  shutil.rmtree('/content/mp4_out/')\n",
        "\n",
        "#補正後の動画を入れるフォルダを作成\n",
        "if not os.path.exists('/content/mp4_out/'):\n",
        "    os.mkdir('/content/mp4_out/')\n",
        "\n",
        "# FPS、1秒間の動画で見せる静止画の枚数\n",
        "FRAME_RATE = 10.0\n",
        "\n",
        "def timelaps(img_paths):\n",
        "    # 一枚目の画像サイズを取得\n",
        "    height, width = cv2.imread(img_paths[0]).shape[:2]\n",
        "\n",
        "    fourcc = cv2.VideoWriter_fourcc('m','p','4','v')\n",
        "\n",
        "    video = cv2.VideoWriter('/content/mp4_out/'+os.path.splitext(os.path.basename(img_paths[0]))[0]+'.mp4', fourcc, FRAME_RATE, (width, height))\n",
        "\n",
        "    for i in range(len(img_paths)):\n",
        "        img = cv2.imread(img_paths[i])\n",
        "        # imreadの戻り値に対してNoneじゃないかどうかチェック\n",
        "        if not img is None:\n",
        "            img = cv2.resize(img, (width, height))\n",
        "            video.write(img)\n",
        "\n",
        "    video.release()\n",
        "\n",
        "if __name__ == '__main__':\n",
        "\n",
        "    # imgフォルダ内のファイル一覧取得\n",
        "    imgs = glob(load_path+'/*.jpg')\n",
        "    # 念のため、jpegも取得する\n",
        "    #imgs.extend(glob('img/*.jpeg'))\n",
        "    # 画像名称を昇順にソートする\n",
        "    img_paths = sorted(imgs)\n",
        "    # 取得画像の枚数を確認する\n",
        "    #print(\"Frame枚数{0}\".format(len(img_paths)))\n",
        "    # タイムラプス動画を作成開始\n",
        "    timelaps(img_paths)"
      ],
      "metadata": {
        "id": "7ktSx4mj38Po"
      },
      "execution_count": null,
      "outputs": []
    },
    {
      "cell_type": "markdown",
      "source": [
        "#.aviを結合してmp4へ"
      ],
      "metadata": {
        "id": "CZBElEdF6olT"
      }
    },
    {
      "cell_type": "code",
      "source": [
        "!pip install moviepy"
      ],
      "metadata": {
        "id": "1mHRG6uX6ttx",
        "outputId": "fe724e08-46d0-4781-a004-b160ebc862fa",
        "colab": {
          "base_uri": "https://localhost:8080/"
        }
      },
      "execution_count": 1,
      "outputs": [
        {
          "output_type": "stream",
          "name": "stdout",
          "text": [
            "Requirement already satisfied: moviepy in /usr/local/lib/python3.12/dist-packages (1.0.3)\n",
            "Requirement already satisfied: decorator<5.0,>=4.0.2 in /usr/local/lib/python3.12/dist-packages (from moviepy) (4.4.2)\n",
            "Requirement already satisfied: tqdm<5.0,>=4.11.2 in /usr/local/lib/python3.12/dist-packages (from moviepy) (4.67.1)\n",
            "Requirement already satisfied: requests<3.0,>=2.8.1 in /usr/local/lib/python3.12/dist-packages (from moviepy) (2.32.4)\n",
            "Requirement already satisfied: proglog<=1.0.0 in /usr/local/lib/python3.12/dist-packages (from moviepy) (0.1.12)\n",
            "Requirement already satisfied: numpy>=1.17.3 in /usr/local/lib/python3.12/dist-packages (from moviepy) (2.0.2)\n",
            "Requirement already satisfied: imageio<3.0,>=2.5 in /usr/local/lib/python3.12/dist-packages (from moviepy) (2.37.0)\n",
            "Requirement already satisfied: imageio-ffmpeg>=0.2.0 in /usr/local/lib/python3.12/dist-packages (from moviepy) (0.6.0)\n",
            "Requirement already satisfied: pillow>=8.3.2 in /usr/local/lib/python3.12/dist-packages (from imageio<3.0,>=2.5->moviepy) (11.3.0)\n",
            "Requirement already satisfied: charset_normalizer<4,>=2 in /usr/local/lib/python3.12/dist-packages (from requests<3.0,>=2.8.1->moviepy) (3.4.3)\n",
            "Requirement already satisfied: idna<4,>=2.5 in /usr/local/lib/python3.12/dist-packages (from requests<3.0,>=2.8.1->moviepy) (3.10)\n",
            "Requirement already satisfied: urllib3<3,>=1.21.1 in /usr/local/lib/python3.12/dist-packages (from requests<3.0,>=2.8.1->moviepy) (2.5.0)\n",
            "Requirement already satisfied: certifi>=2017.4.17 in /usr/local/lib/python3.12/dist-packages (from requests<3.0,>=2.8.1->moviepy) (2025.8.3)\n"
          ]
        }
      ]
    },
    {
      "cell_type": "code",
      "source": [
        "!pip install moviepy\n",
        "!pip install requests"
      ],
      "metadata": {
        "id": "EV7aa8UfSZ8A"
      },
      "execution_count": null,
      "outputs": []
    },
    {
      "cell_type": "code",
      "source": [
        "import os\n",
        "import requests\n",
        "from moviepy.editor import VideoFileClip, concatenate_videoclips\n",
        "\n",
        "def download_file(url, save_path):\n",
        "    \"\"\"\n",
        "    指定されたURLからファイルをダウンロードします。\n",
        "\n",
        "    Args:\n",
        "        url (str): ダウンロードするファイルのURL。\n",
        "        save_path (str): 保存先のファイルパス。\n",
        "    \"\"\"\n",
        "    response = requests.get(url, stream=True)\n",
        "    if response.status_code == 200:\n",
        "        with open(save_path, 'wb') as f:\n",
        "            for chunk in response.iter_content(chunk_size=1024):\n",
        "                f.write(chunk)\n",
        "        print(f\"ファイルをダウンロードしました: {save_path}\")\n",
        "    else:\n",
        "        print(f\"ファイルのダウンロードに失敗しました: {url}\")\n",
        "\n",
        "def merge_videos(input_folder, output_file):\n",
        "    \"\"\"\n",
        "    指定されたフォルダ内の .avi ファイルを結合し、.mp4 ファイルとして出力します。\n",
        "\n",
        "    Args:\n",
        "        input_folder (str): .avi ファイルが保存されているフォルダのパス。\n",
        "        output_file (str): 出力する .mp4 ファイルのパス。\n",
        "    \"\"\"\n",
        "    # フォルダ内の .avi ファイルを取得\n",
        "    avi_files = [os.path.join(input_folder, f) for f in os.listdir(input_folder) if f.endswith('.avi')]\n",
        "\n",
        "    if not avi_files:\n",
        "        print(\"指定されたフォルダに .avi ファイルが見つかりません。\")\n",
        "        return\n",
        "\n",
        "    # 動画クリップを読み込む\n",
        "    clips = []\n",
        "    for avi_file in avi_files:\n",
        "        try:\n",
        "            clip = VideoFileClip(avi_file)\n",
        "            clips.append(clip)\n",
        "        except Exception as e:\n",
        "            print(f\"ファイル {avi_file} の読み込み中にエラーが発生しました: {e}\")\n",
        "\n",
        "    if not clips:\n",
        "        print(\"有効な動画クリップがありません。\")\n",
        "        return\n",
        "\n",
        "    # 動画を結合\n",
        "    final_clip = concatenate_videoclips(clips)\n",
        "\n",
        "    # 出力\n",
        "    try:\n",
        "        final_clip.write_videofile(output_file, codec=\"libx264\", audio_codec=\"aac\")\n",
        "        print(f\"動画が正常に結合され、{output_file} に保存されました。\")\n",
        "    except Exception as e:\n",
        "        print(f\"動画の保存中にエラーが発生しました: {e}\")\n",
        "\n",
        "# GitHubリリースから動画ファイルをダウンロード\n",
        "github_urls = [\n",
        "    \"https://github.com/username/repo/releases/download/v1.0/video1.avi\",\n",
        "    \"https://github.com/username/repo/releases/download/v1.0/video2.avi\",\n",
        "    \"https://github.com/username/repo/releases/download/v1.0/video3.avi\"\n",
        "]\n",
        "\n",
        "# 保存先フォルダ\n",
        "input_folder = \"/content/avi_videos\"\n",
        "os.makedirs(input_folder, exist_ok=True)\n",
        "\n",
        "# ファイルをダウンロード\n",
        "for url in github_urls:\n",
        "    filename = url.split(\"/\")[-1]  # URLからファイル名を取得\n",
        "    save_path = os.path.join(input_folder, filename)\n",
        "    download_file(url, save_path)\n",
        "\n",
        "# 動画を結合して出力\n",
        "output_file = \"/content/output.mp4\"\n",
        "merge_videos(input_folder, output_file)\n"
      ],
      "metadata": {
        "id": "PMeSVdjo6wQN"
      },
      "execution_count": null,
      "outputs": []
    }
  ]
}